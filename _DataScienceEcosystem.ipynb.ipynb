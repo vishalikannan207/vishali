{
  "metadata": {
    "kernelspec": {
      "name": "python",
      "display_name": "Python (Pyodide)",
      "language": "python"
    },
    "language_info": {
      "codemirror_mode": {
        "name": "python",
        "version": 3
      },
      "file_extension": ".py",
      "mimetype": "text/x-python",
      "name": "python",
      "nbconvert_exporter": "python",
      "pygments_lexer": "ipython3",
      "version": "3.8"
    }
  },
  "nbformat_minor": 4,
  "nbformat": 4,
  "cells": [
    {
      "cell_type": "markdown",
      "source": "Data Science Tools and Ecosystem ",
      "metadata": {}
    },
    {
      "cell_type": "markdown",
      "source": "In this notebook, Data Science Tools and Ecosystem are summarized",
      "metadata": {}
    },
    {
      "cell_type": "markdown",
      "source": "Some of the popular languages that Data Scientists use are:\npython\nR language\nSQL",
      "metadata": {}
    },
    {
      "cell_type": "markdown",
      "source": "Some of the commonly used libraries used by Data Scientists include:\npandas\nnumpy\nmatplotlib\n",
      "metadata": {}
    },
    {
      "cell_type": "markdown",
      "source": "Data Science Tools\njupyter notebook\nvisual studio code\nR studio\n",
      "metadata": {}
    },
    {
      "cell_type": "code",
      "source": "\naddition=10+5\nprint(addition)\nsubtraction=10-5\nprint(subtraction)\nmultiplication=10*5\nprint(multiplication)\ndivision=10/5\nprint(division)",
      "metadata": {
        "trusted": true
      },
      "outputs": [
        {
          "name": "stdout",
          "text": "15\n5\n50\n2.0\n",
          "output_type": "stream"
        }
      ],
      "execution_count": 2
    },
    {
      "cell_type": "code",
      "source": "result=(5*3)+10\nprint(result)",
      "metadata": {
        "trusted": true
      },
      "outputs": [
        {
          "name": "stdout",
          "text": "25\n",
          "output_type": "stream"
        }
      ],
      "execution_count": 3
    },
    {
      "cell_type": "code",
      "source": "min=200\nhr=min/60\nprint(hr)\n",
      "metadata": {
        "trusted": true
      },
      "outputs": [
        {
          "name": "stdout",
          "text": "3.3333333333333335\n",
          "output_type": "stream"
        }
      ],
      "execution_count": 4
    },
    {
      "cell_type": "markdown",
      "source": "List popular languages for Data Science.\n            Introducee arithmetic expression in Python.\n            Demonstrate basic arithmetic operations in python.\n            Convert units using arithmetic expressions in python.",
      "metadata": {}
    },
    {
      "cell_type": "markdown",
      "source": "author\n\nvishali kannan",
      "metadata": {}
    },
    {
      "cell_type": "code",
      "source": "",
      "metadata": {
        "trusted": true
      },
      "outputs": [],
      "execution_count": null
    }
  ]
}